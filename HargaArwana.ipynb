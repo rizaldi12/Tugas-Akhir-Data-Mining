{
  "nbformat": 4,
  "nbformat_minor": 0,
  "metadata": {
    "colab": {
      "name": "Untitled18.ipynb",
      "provenance": []
    },
    "kernelspec": {
      "name": "python3",
      "display_name": "Python 3"
    },
    "language_info": {
      "name": "python"
    }
  },
  "cells": [
    {
      "cell_type": "code",
      "metadata": {
        "id": "7B1dvllqI0KA"
      },
      "source": [
        "import numpy as np\n",
        "import pandas as pd\n",
        "import matplotlib.pyplot as plt\n",
        "import sklearn"
      ],
      "execution_count": null,
      "outputs": []
    },
    {
      "cell_type": "code",
      "metadata": {
        "id": "-8XGD71OJKfa"
      },
      "source": [
        "dataset = pd.read_excel('HargaArwana.xlsx')\n",
        "x = dataset.iloc[:, :-1].values\n",
        "y = dataset.iloc[:, 1].values"
      ],
      "execution_count": null,
      "outputs": []
    },
    {
      "cell_type": "code",
      "metadata": {
        "colab": {
          "base_uri": "https://localhost:8080/"
        },
        "id": "t3fIGyWVJTs_",
        "outputId": "f2178695-aab4-4ee6-c82a-cdd4bcde82cb"
      },
      "source": [
        "dataset.keys()"
      ],
      "execution_count": null,
      "outputs": [
        {
          "output_type": "execute_result",
          "data": {
            "text/plain": [
              "Index(['Umur Ikan Arwana', 'HargaJual'], dtype='object')"
            ]
          },
          "metadata": {
            "tags": []
          },
          "execution_count": 5
        }
      ]
    },
    {
      "cell_type": "code",
      "metadata": {
        "colab": {
          "base_uri": "https://localhost:8080/"
        },
        "id": "moOpBISCJWmW",
        "outputId": "c85243f7-5798-42a7-be44-53dce198f857"
      },
      "source": [
        "dataset.shape"
      ],
      "execution_count": null,
      "outputs": [
        {
          "output_type": "execute_result",
          "data": {
            "text/plain": [
              "(999, 2)"
            ]
          },
          "metadata": {
            "tags": []
          },
          "execution_count": 6
        }
      ]
    },
    {
      "cell_type": "code",
      "metadata": {
        "colab": {
          "base_uri": "https://localhost:8080/",
          "height": 206
        },
        "id": "4X_fAfenJZ5d",
        "outputId": "996c9ece-9a1d-4fcb-e257-7bde394af0b1"
      },
      "source": [
        "dataku = pd.DataFrame(dataset)\n",
        "dataku.head()"
      ],
      "execution_count": null,
      "outputs": [
        {
          "output_type": "execute_result",
          "data": {
            "text/html": [
              "<div>\n",
              "<style scoped>\n",
              "    .dataframe tbody tr th:only-of-type {\n",
              "        vertical-align: middle;\n",
              "    }\n",
              "\n",
              "    .dataframe tbody tr th {\n",
              "        vertical-align: top;\n",
              "    }\n",
              "\n",
              "    .dataframe thead th {\n",
              "        text-align: right;\n",
              "    }\n",
              "</style>\n",
              "<table border=\"1\" class=\"dataframe\">\n",
              "  <thead>\n",
              "    <tr style=\"text-align: right;\">\n",
              "      <th></th>\n",
              "      <th>Umur Ikan Arwana</th>\n",
              "      <th>HargaJual</th>\n",
              "    </tr>\n",
              "  </thead>\n",
              "  <tbody>\n",
              "    <tr>\n",
              "      <th>0</th>\n",
              "      <td>2</td>\n",
              "      <td>5200</td>\n",
              "    </tr>\n",
              "    <tr>\n",
              "      <th>1</th>\n",
              "      <td>2</td>\n",
              "      <td>5210</td>\n",
              "    </tr>\n",
              "    <tr>\n",
              "      <th>2</th>\n",
              "      <td>2</td>\n",
              "      <td>5220</td>\n",
              "    </tr>\n",
              "    <tr>\n",
              "      <th>3</th>\n",
              "      <td>2</td>\n",
              "      <td>5230</td>\n",
              "    </tr>\n",
              "    <tr>\n",
              "      <th>4</th>\n",
              "      <td>2</td>\n",
              "      <td>5240</td>\n",
              "    </tr>\n",
              "  </tbody>\n",
              "</table>\n",
              "</div>"
            ],
            "text/plain": [
              "   Umur Ikan Arwana  HargaJual\n",
              "0                 2       5200\n",
              "1                 2       5210\n",
              "2                 2       5220\n",
              "3                 2       5230\n",
              "4                 2       5240"
            ]
          },
          "metadata": {
            "tags": []
          },
          "execution_count": 7
        }
      ]
    },
    {
      "cell_type": "code",
      "metadata": {
        "id": "dSmwKFPJJcu0"
      },
      "source": [
        "from sklearn.model_selection import train_test_split\n",
        "x_train, x_test, y_train, y_test = train_test_split(x, y, test_size = 0.2, random_state=0)"
      ],
      "execution_count": null,
      "outputs": []
    },
    {
      "cell_type": "code",
      "metadata": {
        "colab": {
          "base_uri": "https://localhost:8080/"
        },
        "id": "7TlHbSp3JfzD",
        "outputId": "ea77fe4e-03ed-454b-96be-636d83d1b9f7"
      },
      "source": [
        "from sklearn.linear_model import LinearRegression\n",
        "regressor = LinearRegression()\n",
        "regressor.fit(x_train, y_train)"
      ],
      "execution_count": null,
      "outputs": [
        {
          "output_type": "execute_result",
          "data": {
            "text/plain": [
              "LinearRegression(copy_X=True, fit_intercept=True, n_jobs=None, normalize=False)"
            ]
          },
          "metadata": {
            "tags": []
          },
          "execution_count": 9
        }
      ]
    },
    {
      "cell_type": "code",
      "metadata": {
        "id": "hbfnKLz3JlFI"
      },
      "source": [
        "y_pred = regressor.predict(x_test)"
      ],
      "execution_count": null,
      "outputs": []
    },
    {
      "cell_type": "code",
      "metadata": {
        "colab": {
          "base_uri": "https://localhost:8080/"
        },
        "id": "9UtZN56VJn_c",
        "outputId": "69d97f91-8de5-4218-c22f-ef0adf1c19f2"
      },
      "source": [
        "y_pred"
      ],
      "execution_count": null,
      "outputs": [
        {
          "output_type": "execute_result",
          "data": {
            "text/plain": [
              "array([9854.86215508, 2232.52851728, 9854.86215508, 9854.86215508,\n",
              "       9854.86215508, 7314.08427582, 7314.08427582, 7314.08427582,\n",
              "       2232.52851728, 7314.08427582, 9854.86215508, 4773.30639655,\n",
              "       7314.08427582, 9854.86215508, 9854.86215508, 9854.86215508,\n",
              "       7314.08427582, 7314.08427582, 4773.30639655, 9854.86215508,\n",
              "       9854.86215508, 7314.08427582, 2232.52851728, 9854.86215508,\n",
              "       4773.30639655, 4773.30639655, 2232.52851728, 4773.30639655,\n",
              "       7314.08427582, 9854.86215508, 9854.86215508, 4773.30639655,\n",
              "       7314.08427582, 7314.08427582, 9854.86215508, 9854.86215508,\n",
              "       2232.52851728, 9854.86215508, 4773.30639655, 4773.30639655,\n",
              "       9854.86215508, 7314.08427582, 9854.86215508, 2232.52851728,\n",
              "       4773.30639655, 9854.86215508, 9854.86215508, 9854.86215508,\n",
              "       7314.08427582, 9854.86215508, 7314.08427582, 9854.86215508,\n",
              "       7314.08427582, 4773.30639655, 9854.86215508, 7314.08427582,\n",
              "       7314.08427582, 4773.30639655, 9854.86215508, 7314.08427582,\n",
              "       9854.86215508, 9854.86215508, 4773.30639655, 9854.86215508,\n",
              "       9854.86215508, 9854.86215508, 7314.08427582, 9854.86215508,\n",
              "       7314.08427582, 9854.86215508, 7314.08427582, 7314.08427582,\n",
              "       9854.86215508, 7314.08427582, 9854.86215508, 7314.08427582,\n",
              "       9854.86215508, 7314.08427582, 9854.86215508, 4773.30639655,\n",
              "       9854.86215508, 4773.30639655, 9854.86215508, 4773.30639655,\n",
              "       7314.08427582, 7314.08427582, 7314.08427582, 7314.08427582,\n",
              "       4773.30639655, 9854.86215508, 9854.86215508, 9854.86215508,\n",
              "       7314.08427582, 7314.08427582, 4773.30639655, 9854.86215508,\n",
              "       9854.86215508, 7314.08427582, 7314.08427582, 2232.52851728,\n",
              "       4773.30639655, 7314.08427582, 9854.86215508, 9854.86215508,\n",
              "       9854.86215508, 7314.08427582, 4773.30639655, 4773.30639655,\n",
              "       7314.08427582, 7314.08427582, 4773.30639655, 4773.30639655,\n",
              "       9854.86215508, 7314.08427582, 4773.30639655, 9854.86215508,\n",
              "       4773.30639655, 9854.86215508, 9854.86215508, 7314.08427582,\n",
              "       2232.52851728, 9854.86215508, 9854.86215508, 9854.86215508,\n",
              "       4773.30639655, 9854.86215508, 4773.30639655, 7314.08427582,\n",
              "       9854.86215508, 7314.08427582, 9854.86215508, 9854.86215508,\n",
              "       9854.86215508, 4773.30639655, 2232.52851728, 9854.86215508,\n",
              "       9854.86215508, 4773.30639655, 9854.86215508, 4773.30639655,\n",
              "       7314.08427582, 7314.08427582, 7314.08427582, 7314.08427582,\n",
              "       7314.08427582, 2232.52851728, 2232.52851728, 4773.30639655,\n",
              "       2232.52851728, 7314.08427582, 9854.86215508, 9854.86215508,\n",
              "       9854.86215508, 7314.08427582, 9854.86215508, 7314.08427582,\n",
              "       9854.86215508, 7314.08427582, 9854.86215508, 9854.86215508,\n",
              "       9854.86215508, 7314.08427582, 4773.30639655, 7314.08427582,\n",
              "       9854.86215508, 4773.30639655, 7314.08427582, 9854.86215508,\n",
              "       4773.30639655, 4773.30639655, 4773.30639655, 9854.86215508,\n",
              "       7314.08427582, 4773.30639655, 7314.08427582, 4773.30639655,\n",
              "       9854.86215508, 7314.08427582, 7314.08427582, 4773.30639655,\n",
              "       4773.30639655, 9854.86215508, 9854.86215508, 4773.30639655,\n",
              "       7314.08427582, 4773.30639655, 9854.86215508, 7314.08427582,\n",
              "       9854.86215508, 2232.52851728, 7314.08427582, 9854.86215508,\n",
              "       9854.86215508, 9854.86215508, 9854.86215508, 4773.30639655,\n",
              "       4773.30639655, 4773.30639655, 9854.86215508, 7314.08427582])"
            ]
          },
          "metadata": {
            "tags": []
          },
          "execution_count": 11
        }
      ]
    },
    {
      "cell_type": "code",
      "metadata": {
        "colab": {
          "base_uri": "https://localhost:8080/",
          "height": 423
        },
        "id": "IKdAq45GJrtA",
        "outputId": "94111df7-cf09-4e1c-b69a-30319bd330f9"
      },
      "source": [
        "dataku.dropna()"
      ],
      "execution_count": null,
      "outputs": [
        {
          "output_type": "execute_result",
          "data": {
            "text/html": [
              "<div>\n",
              "<style scoped>\n",
              "    .dataframe tbody tr th:only-of-type {\n",
              "        vertical-align: middle;\n",
              "    }\n",
              "\n",
              "    .dataframe tbody tr th {\n",
              "        vertical-align: top;\n",
              "    }\n",
              "\n",
              "    .dataframe thead th {\n",
              "        text-align: right;\n",
              "    }\n",
              "</style>\n",
              "<table border=\"1\" class=\"dataframe\">\n",
              "  <thead>\n",
              "    <tr style=\"text-align: right;\">\n",
              "      <th></th>\n",
              "      <th>Umur Ikan Arwana</th>\n",
              "      <th>HargaJual</th>\n",
              "    </tr>\n",
              "  </thead>\n",
              "  <tbody>\n",
              "    <tr>\n",
              "      <th>0</th>\n",
              "      <td>2</td>\n",
              "      <td>5200</td>\n",
              "    </tr>\n",
              "    <tr>\n",
              "      <th>1</th>\n",
              "      <td>2</td>\n",
              "      <td>5210</td>\n",
              "    </tr>\n",
              "    <tr>\n",
              "      <th>2</th>\n",
              "      <td>2</td>\n",
              "      <td>5220</td>\n",
              "    </tr>\n",
              "    <tr>\n",
              "      <th>3</th>\n",
              "      <td>2</td>\n",
              "      <td>5230</td>\n",
              "    </tr>\n",
              "    <tr>\n",
              "      <th>4</th>\n",
              "      <td>2</td>\n",
              "      <td>5240</td>\n",
              "    </tr>\n",
              "    <tr>\n",
              "      <th>...</th>\n",
              "      <td>...</td>\n",
              "      <td>...</td>\n",
              "    </tr>\n",
              "    <tr>\n",
              "      <th>994</th>\n",
              "      <td>5</td>\n",
              "      <td>12140</td>\n",
              "    </tr>\n",
              "    <tr>\n",
              "      <th>995</th>\n",
              "      <td>5</td>\n",
              "      <td>12150</td>\n",
              "    </tr>\n",
              "    <tr>\n",
              "      <th>996</th>\n",
              "      <td>5</td>\n",
              "      <td>12160</td>\n",
              "    </tr>\n",
              "    <tr>\n",
              "      <th>997</th>\n",
              "      <td>5</td>\n",
              "      <td>12170</td>\n",
              "    </tr>\n",
              "    <tr>\n",
              "      <th>998</th>\n",
              "      <td>5</td>\n",
              "      <td>12180</td>\n",
              "    </tr>\n",
              "  </tbody>\n",
              "</table>\n",
              "<p>999 rows × 2 columns</p>\n",
              "</div>"
            ],
            "text/plain": [
              "     Umur Ikan Arwana  HargaJual\n",
              "0                   2       5200\n",
              "1                   2       5210\n",
              "2                   2       5220\n",
              "3                   2       5230\n",
              "4                   2       5240\n",
              "..                ...        ...\n",
              "994                 5      12140\n",
              "995                 5      12150\n",
              "996                 5      12160\n",
              "997                 5      12170\n",
              "998                 5      12180\n",
              "\n",
              "[999 rows x 2 columns]"
            ]
          },
          "metadata": {
            "tags": []
          },
          "execution_count": 12
        }
      ]
    },
    {
      "cell_type": "code",
      "metadata": {
        "id": "2dOmBBp4Jx4i"
      },
      "source": [
        "plt.scatter(dataku.UmurIkanArwana, dataku.HargaJual)\n",
        "plt.xlabel('Usia Arwana (bulan)')\n",
        "plt.ylabel('Harga Arwana ($)')\n",
        "plt.title('Grafik Usia Arwana vs Harga Arwana')\n",
        "plt.show"
      ],
      "execution_count": null,
      "outputs": []
    }
  ]
}